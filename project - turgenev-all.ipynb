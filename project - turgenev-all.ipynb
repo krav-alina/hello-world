{
 "cells": [
  {
   "cell_type": "code",
   "execution_count": 1,
   "metadata": {},
   "outputs": [],
   "source": [
    "with open ('Тургенев Иван. Том 6. Дворянское гнездо. Накануне. Первая любовь - royallib.ru.txt') as file1:\n",
    "    tom6 = file1.read()"
   ]
  },
  {
   "cell_type": "code",
   "execution_count": 2,
   "metadata": {},
   "outputs": [],
   "source": [
    "with open ('Тургенев Иван. Том 3. Записки охотника - royallib.ru.txt') as file1:\n",
    "    tom3 = file1.read()"
   ]
  },
  {
   "cell_type": "code",
   "execution_count": 3,
   "metadata": {},
   "outputs": [],
   "source": [
    "with open ('Тургенев Иван. Том 9. Новь. Повести и рассказы 1874-1877 - royallib.ru.txt') as file1:\n",
    "    tom9 = file1.read()"
   ]
  },
  {
   "cell_type": "code",
   "execution_count": 4,
   "metadata": {},
   "outputs": [],
   "source": [
    "with open ('ottsy_i_dieti_-_ivan_sierghieievich_turghieniev.txt') as file1:\n",
    "    tom = file1.read()"
   ]
  },
  {
   "cell_type": "code",
   "execution_count": 5,
   "metadata": {},
   "outputs": [],
   "source": [
    "with open ('Тургенев Иван. Том 5. Рудин. Повести и рассказы 1853-1857 - royallib.ru.txt') as file1:\n",
    "    tom5 = file1.read()"
   ]
  },
  {
   "cell_type": "code",
   "execution_count": 6,
   "metadata": {},
   "outputs": [],
   "source": [
    "all_texts = tom6 + tom3 + tom9 + tom + tom5"
   ]
  },
  {
   "cell_type": "code",
   "execution_count": 7,
   "metadata": {},
   "outputs": [],
   "source": [
    "from sklearn.feature_extraction.text import CountVectorizer\n",
    "import nltk\n",
    "from collections import Counter\n",
    "import re\n",
    "import os"
   ]
  },
  {
   "cell_type": "code",
   "execution_count": 8,
   "metadata": {},
   "outputs": [
    {
     "name": "stderr",
     "output_type": "stream",
     "text": [
      "[nltk_data] Downloading package punkt to\n",
      "[nltk_data]     C:\\Users\\sidor\\AppData\\Roaming\\nltk_data...\n",
      "[nltk_data]   Package punkt is already up-to-date!\n"
     ]
    },
    {
     "data": {
      "text/plain": [
       "True"
      ]
     },
     "execution_count": 8,
     "metadata": {},
     "output_type": "execute_result"
    }
   ],
   "source": [
    "from nltk.corpus import stopwords\n",
    "from nltk.tokenize import word_tokenize\n",
    "import nltk\n",
    "nltk.download('punkt') "
   ]
  },
  {
   "cell_type": "code",
   "execution_count": 9,
   "metadata": {},
   "outputs": [
    {
     "name": "stderr",
     "output_type": "stream",
     "text": [
      "[nltk_data] Downloading package stopwords to\n",
      "[nltk_data]     C:\\Users\\sidor\\AppData\\Roaming\\nltk_data...\n",
      "[nltk_data]   Package stopwords is already up-to-date!\n"
     ]
    },
    {
     "data": {
      "text/plain": [
       "True"
      ]
     },
     "execution_count": 9,
     "metadata": {},
     "output_type": "execute_result"
    }
   ],
   "source": [
    "import nltk\n",
    "nltk.download('stopwords')"
   ]
  },
  {
   "cell_type": "code",
   "execution_count": 10,
   "metadata": {},
   "outputs": [],
   "source": [
    "from string import punctuation"
   ]
  },
  {
   "cell_type": "code",
   "execution_count": 11,
   "metadata": {},
   "outputs": [],
   "source": [
    "from pymystem3 import Mystem"
   ]
  },
  {
   "cell_type": "code",
   "execution_count": 12,
   "metadata": {},
   "outputs": [],
   "source": [
    "from pymorphy2 import MorphAnalyzer\n",
    "morph = MorphAnalyzer()"
   ]
  },
  {
   "cell_type": "code",
   "execution_count": 13,
   "metadata": {},
   "outputs": [],
   "source": [
    "mystem = Mystem() "
   ]
  },
  {
   "cell_type": "code",
   "execution_count": 14,
   "metadata": {},
   "outputs": [
    {
     "name": "stdout",
     "output_type": "stream",
     "text": [
      "['и', 'в', 'во', 'не', 'что', 'он', 'на', 'я', 'с', 'со', 'как', 'а', 'то', 'все', 'она', 'так', 'его', 'но', 'да', 'ты', 'к', 'у', 'же', 'вы', 'за', 'бы', 'по', 'только', 'ее', 'мне', 'было', 'вот', 'от', 'меня', 'еще', 'нет', 'о', 'из', 'ему', 'теперь', 'когда', 'даже', 'ну', 'вдруг', 'ли', 'если', 'уже', 'или', 'ни', 'быть', 'был', 'него', 'до', 'вас', 'нибудь', 'опять', 'уж', 'вам', 'ведь', 'там', 'потом', 'себя', 'ничего', 'ей', 'может', 'они', 'тут', 'где', 'есть', 'надо', 'ней', 'для', 'мы', 'тебя', 'их', 'чем', 'была', 'сам', 'чтоб', 'без', 'будто', 'чего', 'раз', 'тоже', 'себе', 'под', 'будет', 'ж', 'тогда', 'кто', 'этот', 'того', 'потому', 'этого', 'какой', 'совсем', 'ним', 'здесь', 'этом', 'один', 'почти', 'мой', 'тем', 'чтобы', 'нее', 'сейчас', 'были', 'куда', 'зачем', 'всех', 'никогда', 'можно', 'при', 'наконец', 'два', 'об', 'другой', 'хоть', 'после', 'над', 'больше', 'тот', 'через', 'эти', 'нас', 'про', 'всего', 'них', 'какая', 'много', 'разве', 'три', 'эту', 'моя', 'впрочем', 'хорошо', 'свою', 'этой', 'перед', 'иногда', 'лучше', 'чуть', 'том', 'нельзя', 'такой', 'им', 'более', 'всегда', 'конечно', 'всю', 'между', 'это', 'ничто', 'свой', 'дарья', 'михайло', 'марья', 'дмитрий', 'павел', 'пётр', 'варвар', 'павло', 'марфа', 'тимофей', 'николай', 'пётр', 'валентин', 'михайло', 'александр', 'павло', 'анна', 'сергей', 'анна', 'василий', 'николай', 'артемий', 'василий', 'иван', 'увар', 'иван', 'парамон', 'семён', 'татьяна', 'борис', 'пантелей', 'еремей', 'аркадий', 'павлыч', 'фёдор', 'иван', 'евгений', 'василья', 'арин', 'власий', 'наталья', 'алексей', 'андрей', 'пётр', 'мардарий', 'аполлон', 'вера', 'николай', 'марья', 'александр', 'софья', 'николай']\n"
     ]
    }
   ],
   "source": [
    "stops = stopwords.words('russian')\n",
    "l = ['это','ничто','свой','дарья', 'михайло', 'марья', 'дмитрий', 'павел', 'пётр', 'варвар', 'павло', 'марфа', 'тимофей', 'николай', 'пётр', 'валентин', 'михайло', 'александр', 'павло', 'анна', 'сергей', 'анна', 'василий', 'николай', 'артемий', 'василий', 'иван', 'увар', 'иван', 'парамон', 'семён', 'татьяна', 'борис', 'пантелей', 'еремей', 'аркадий', 'павлыч', 'фёдор', 'иван', 'евгений', 'василья', 'арин', 'власий', 'наталья', 'алексей', 'андрей', 'пётр', 'мардарий', 'аполлон', 'вера', 'николай', 'марья', 'александр', 'софья', 'николай']\n",
    "stops.extend(l)\n",
    "print(stops)"
   ]
  },
  {
   "cell_type": "code",
   "execution_count": 15,
   "metadata": {},
   "outputs": [],
   "source": [
    "def normalize(text):\n",
    "    punct = punctuation +\"«»-_—–\"\n",
    "    normalized_text = [morph.parse(word.strip(punct))[0].normal_form for word \\\n",
    "                                                            in text.lower().split()]\n",
    "    normalized_text = [word for word in normalized_text if word and word not in stops]\n",
    "    return normalized_text"
   ]
  },
  {
   "cell_type": "code",
   "execution_count": 16,
   "metadata": {},
   "outputs": [],
   "source": [
    "def ngrammer(tokens, n=10):\n",
    "    ngrams = []\n",
    "    for i in range(0,len(tokens)-n+1):\n",
    "        ngrams.append(' '.join(tokens[i:i+n]))\n",
    "    return ngrams"
   ]
  },
  {
   "cell_type": "code",
   "execution_count": 17,
   "metadata": {},
   "outputs": [
    {
     "name": "stdout",
     "output_type": "stream",
     "text": [
      "['спасибо', 'скачать', 'книга', 'бесплатный', 'электронный', 'библиотека', 'royallib.ru', 'http://royallib.ru', 'весь', 'книга', 'автор', 'http://royallib.ru/author/turgenev_ivan.html', 'книга', 'формат', 'http://royallib.ru/book/turgenev_ivan/tom_6_dvoryanskoe_gnezdo_nakanune_pervaya_lyubov.html', 'приятный', 'чтение', 'тургенев', 'собрание', 'сочинение']\n"
     ]
    }
   ],
   "source": [
    "lemm_texts = normalize(all_texts)\n",
    "print(lemm_texts[:20])"
   ]
  },
  {
   "cell_type": "code",
   "execution_count": 18,
   "metadata": {},
   "outputs": [],
   "source": [
    "words_analized = [morph.parse(token) for token in word_tokenize(all_texts)]"
   ]
  },
  {
   "cell_type": "code",
   "execution_count": 19,
   "metadata": {},
   "outputs": [
    {
     "data": {
      "text/plain": [
       "634303"
      ]
     },
     "execution_count": 19,
     "metadata": {},
     "output_type": "execute_result"
    }
   ],
   "source": [
    "len(words_analized)"
   ]
  },
  {
   "cell_type": "code",
   "execution_count": 41,
   "metadata": {},
   "outputs": [
    {
     "data": {
      "text/plain": [
       "Parse(word='книги', tag=OpencorporaTag('NOUN,inan,femn sing,gent'), normal_form='книга', score=0.985507, methods_stack=((<DictionaryAnalyzer>, 'книги', 43, 1),))"
      ]
     },
     "execution_count": 41,
     "metadata": {},
     "output_type": "execute_result"
    }
   ],
   "source": [
    "words_analized[15][0]"
   ]
  },
  {
   "cell_type": "code",
   "execution_count": 44,
   "metadata": {},
   "outputs": [
    {
     "data": {
      "text/plain": [
       "'NOUN'"
      ]
     },
     "execution_count": 44,
     "metadata": {},
     "output_type": "execute_result"
    }
   ],
   "source": [
    "words_analized[15][0].tag.POS"
   ]
  },
  {
   "cell_type": "code",
   "execution_count": 19,
   "metadata": {},
   "outputs": [],
   "source": [
    "turgenev_POS = []\n",
    "for x in words_analized:\n",
    "    turgenev_POS.append(x[0].tag.POS)"
   ]
  },
  {
   "cell_type": "code",
   "execution_count": 20,
   "metadata": {},
   "outputs": [
    {
     "name": "stdout",
     "output_type": "stream",
     "text": [
      "[None, 'NOUN', 'VERB', 'NPRO', 'ADJF', 'CONJ', 'PREP', 'ADVB']\n"
     ]
    }
   ],
   "source": [
    "from collections import Counter\n",
    "\n",
    "\n",
    "most_common_words = []\n",
    "for word, word_count in Counter(turgenev_POS).most_common(8):\n",
    "    most_common_words.append(word)\n",
    "\n",
    "print (most_common_words)"
   ]
  },
  {
   "cell_type": "code",
   "execution_count": 21,
   "metadata": {},
   "outputs": [
    {
     "data": {
      "text/plain": [
       "[('молодая человек', 136),\n",
       " ('друг друг', 133),\n",
       " ('человек который', 97),\n",
       " ('весь равно', 94),\n",
       " ('крайний мера', 92),\n",
       " ('хотеть сказать', 86),\n",
       " ('сей пора', 84),\n",
       " ('оба рука', 68),\n",
       " ('весь ещё', 68),\n",
       " ('самый дело', 61),\n",
       " ('войти комната', 55),\n",
       " ('следующий день', 53),\n",
       " ('выражение лицо', 48),\n",
       " ('протянуть рука', 46),\n",
       " ('поднять голова', 45),\n",
       " ('слава бог', 44),\n",
       " ('весь время', 44),\n",
       " ('милостивый государь', 44),\n",
       " ('бог знать', 43),\n",
       " ('иметь право', 43),\n",
       " ('взад вперёд', 41),\n",
       " ('покачать голова', 41),\n",
       " ('сквозь зуб', 40),\n",
       " ('который весь', 40),\n",
       " ('пожать плечо', 40),\n",
       " ('несколько мгновение', 38),\n",
       " ('глядеть нея', 38),\n",
       " ('поднять глаз', 37),\n",
       " ('всякий случай', 37),\n",
       " ('наш брат', 37),\n",
       " ('взять рука', 37),\n",
       " ('ради бог', 35),\n",
       " ('вернуться домой', 34),\n",
       " ('весь лицо', 34),\n",
       " ('весь дом', 34),\n",
       " ('весь тело', 34),\n",
       " ('высокий рост', 33),\n",
       " ('последний слово', 33),\n",
       " ('год двадцать', 33),\n",
       " ('четверть час', 33),\n",
       " ('сказать весь', 31),\n",
       " ('соседний комната', 31),\n",
       " ('весь наш', 31),\n",
       " ('несколько день', 30),\n",
       " ('последний время', 30),\n",
       " ('весь жизнь', 30),\n",
       " ('хороший человек', 30),\n",
       " ('каждый слово', 30),\n",
       " ('опустить глаз', 28),\n",
       " ('весь весь', 28)]"
      ]
     },
     "execution_count": 21,
     "metadata": {},
     "output_type": "execute_result"
    }
   ],
   "source": [
    "word_counter = Counter()\n",
    "\n",
    "#for text in lemm_texts:\n",
    "word_counter.update(ngrammer(lemm_texts, n=2))\n",
    "\n",
    "word_counter.most_common(50)"
   ]
  },
  {
   "cell_type": "code",
   "execution_count": 22,
   "metadata": {},
   "outputs": [],
   "source": [
    "from nltk.collocations import *"
   ]
  },
  {
   "cell_type": "code",
   "execution_count": 23,
   "metadata": {},
   "outputs": [],
   "source": [
    "bigram_measures = nltk.collocations.BigramAssocMeasures()\n",
    "trigram_measures = nltk.collocations.TrigramAssocMeasures()"
   ]
  },
  {
   "cell_type": "code",
   "execution_count": 24,
   "metadata": {},
   "outputs": [
    {
     "data": {
      "text/plain": [
       "[('крайний', 'мера'),\n",
       " ('друг', 'друг'),\n",
       " ('сей', 'пора'),\n",
       " ('молодая', 'человек'),\n",
       " ('весь', 'равно'),\n",
       " ('милостивый', 'государь'),\n",
       " ('взад', 'вперёд'),\n",
       " ('слава', 'бог'),\n",
       " ('сквозь', 'зуб'),\n",
       " ('следующий', 'день'),\n",
       " ('пожать', 'плечо'),\n",
       " ('покачать', 'голова'),\n",
       " ('четверть', 'час'),\n",
       " ('войти', 'комната'),\n",
       " ('оба', 'рука'),\n",
       " ('ради', 'бог'),\n",
       " ('иметь', 'право'),\n",
       " ('высокий', 'рост'),\n",
       " ('больший', 'частью'),\n",
       " ('хотеть', 'сказать'),\n",
       " ('протянуть', 'рука'),\n",
       " ('обращать', 'внимание'),\n",
       " ('поднять', 'голова'),\n",
       " ('всякий', 'случай'),\n",
       " ('точка', 'зрение'),\n",
       " ('соседний', 'комната'),\n",
       " ('выражение', 'лицо'),\n",
       " ('m-lle', 'boncourt'),\n",
       " ('фрау', 'луиз'),\n",
       " ('настасья', 'карп'),\n",
       " ('погодя', 'немного'),\n",
       " ('вернуться', 'домой'),\n",
       " ('человек', 'который'),\n",
       " ('несколько', 'мгновение'),\n",
       " ('направо', 'налево'),\n",
       " ('константин', 'диомидыча'),\n",
       " ('марианна', 'викентий'),\n",
       " ('самый', 'дело'),\n",
       " ('проходить', 'мимо'),\n",
       " ('лишь', 'изредка'),\n",
       " ('кивнуть', 'голова'),\n",
       " ('мсьё', 'вольдемар'),\n",
       " ('сделать', 'одолжение'),\n",
       " ('небольшой', 'молчание'),\n",
       " ('год', 'двадцать'),\n",
       " ('матвей', 'илья'),\n",
       " ('нахмурить', 'бровь'),\n",
       " ('ваш', 'превосходительство'),\n",
       " ('понизить', 'голос'),\n",
       " ('поднять', 'глаз')]"
      ]
     },
     "execution_count": 24,
     "metadata": {},
     "output_type": "execute_result"
    }
   ],
   "source": [
    "finder2 = BigramCollocationFinder.from_words(lemm_texts)\n",
    "finder2.nbest(bigram_measures.likelihood_ratio, 50)"
   ]
  },
  {
   "cell_type": "code",
   "execution_count": 25,
   "metadata": {},
   "outputs": [],
   "source": [
    "from pymorphy2 import MorphAnalyzer\n",
    "from pymystem3 import Mystem\n",
    "\n",
    "# сохраняем класс в переменную\n",
    "mystem = Mystem() \n",
    "morph = MorphAnalyzer()"
   ]
  },
  {
   "cell_type": "code",
   "execution_count": null,
   "metadata": {},
   "outputs": [],
   "source": []
  }
 ],
 "metadata": {
  "kernelspec": {
   "display_name": "Python 3",
   "language": "python",
   "name": "python3"
  },
  "language_info": {
   "codemirror_mode": {
    "name": "ipython",
    "version": 3
   },
   "file_extension": ".py",
   "mimetype": "text/x-python",
   "name": "python",
   "nbconvert_exporter": "python",
   "pygments_lexer": "ipython3",
   "version": "3.7.4"
  }
 },
 "nbformat": 4,
 "nbformat_minor": 2
}
