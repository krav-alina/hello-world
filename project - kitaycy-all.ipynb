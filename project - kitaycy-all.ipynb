{
 "cells": [
  {
   "cell_type": "code",
   "execution_count": 1,
   "metadata": {},
   "outputs": [],
   "source": [
    "with open ('Ба Цзинь. Осень - royallib.com.txt') as file1:\n",
    "    bajin1 = file1.read()"
   ]
  },
  {
   "cell_type": "code",
   "execution_count": 2,
   "metadata": {},
   "outputs": [],
   "source": [
    "with open ('Ай У. В огне рождается сталь - royallib.com.txt') as file1:\n",
    "    aiwu = file1.read()"
   ]
  },
  {
   "cell_type": "code",
   "execution_count": 3,
   "metadata": {},
   "outputs": [],
   "source": [
    "with open ('Цзинь Ба. Избранное  - royallib.com.txt') as file1:\n",
    "    bajin3 = file1.read()"
   ]
  },
  {
   "cell_type": "code",
   "execution_count": 4,
   "metadata": {},
   "outputs": [],
   "source": [
    "with open ('Бацзинь - Семья.txt') as file1:\n",
    "    bajin2 = file1.read()"
   ]
  },
  {
   "cell_type": "code",
   "execution_count": 5,
   "metadata": {},
   "outputs": [],
   "source": [
    "all_texts = bajin1+aiwu+bajin3+bajin2"
   ]
  },
  {
   "cell_type": "code",
   "execution_count": 6,
   "metadata": {},
   "outputs": [],
   "source": [
    "from sklearn.feature_extraction.text import CountVectorizer\n",
    "import nltk\n",
    "from collections import Counter\n",
    "import re\n",
    "import os"
   ]
  },
  {
   "cell_type": "code",
   "execution_count": 7,
   "metadata": {},
   "outputs": [
    {
     "name": "stderr",
     "output_type": "stream",
     "text": [
      "[nltk_data] Downloading package punkt to\n",
      "[nltk_data]     C:\\Users\\sidor\\AppData\\Roaming\\nltk_data...\n",
      "[nltk_data]   Package punkt is already up-to-date!\n"
     ]
    },
    {
     "data": {
      "text/plain": [
       "True"
      ]
     },
     "execution_count": 7,
     "metadata": {},
     "output_type": "execute_result"
    }
   ],
   "source": [
    "from nltk.corpus import stopwords\n",
    "from nltk.tokenize import word_tokenize\n",
    "import nltk\n",
    "nltk.download('punkt') "
   ]
  },
  {
   "cell_type": "code",
   "execution_count": 8,
   "metadata": {},
   "outputs": [
    {
     "name": "stderr",
     "output_type": "stream",
     "text": [
      "[nltk_data] Downloading package stopwords to\n",
      "[nltk_data]     C:\\Users\\sidor\\AppData\\Roaming\\nltk_data...\n",
      "[nltk_data]   Package stopwords is already up-to-date!\n"
     ]
    },
    {
     "data": {
      "text/plain": [
       "True"
      ]
     },
     "execution_count": 8,
     "metadata": {},
     "output_type": "execute_result"
    }
   ],
   "source": [
    "import nltk\n",
    "nltk.download('stopwords')"
   ]
  },
  {
   "cell_type": "code",
   "execution_count": 9,
   "metadata": {},
   "outputs": [],
   "source": [
    "from string import punctuation"
   ]
  },
  {
   "cell_type": "code",
   "execution_count": 10,
   "metadata": {},
   "outputs": [],
   "source": [
    "from pymystem3 import Mystem"
   ]
  },
  {
   "cell_type": "code",
   "execution_count": 11,
   "metadata": {},
   "outputs": [],
   "source": [
    "from pymorphy2 import MorphAnalyzer\n",
    "morph = MorphAnalyzer()"
   ]
  },
  {
   "cell_type": "code",
   "execution_count": 12,
   "metadata": {},
   "outputs": [],
   "source": [
    "mystem = Mystem() "
   ]
  },
  {
   "cell_type": "code",
   "execution_count": 13,
   "metadata": {},
   "outputs": [
    {
     "name": "stdout",
     "output_type": "stream",
     "text": [
      "['и', 'в', 'во', 'не', 'что', 'он', 'на', 'я', 'с', 'со', 'как', 'а', 'то', 'все', 'она', 'так', 'его', 'но', 'да', 'ты', 'к', 'у', 'же', 'вы', 'за', 'бы', 'по', 'только', 'ее', 'мне', 'было', 'вот', 'от', 'меня', 'еще', 'нет', 'о', 'из', 'ему', 'теперь', 'когда', 'даже', 'ну', 'вдруг', 'ли', 'если', 'уже', 'или', 'ни', 'быть', 'был', 'него', 'до', 'вас', 'нибудь', 'опять', 'уж', 'вам', 'ведь', 'там', 'потом', 'себя', 'ничего', 'ей', 'может', 'они', 'тут', 'где', 'есть', 'надо', 'ней', 'для', 'мы', 'тебя', 'их', 'чем', 'была', 'сам', 'чтоб', 'без', 'будто', 'чего', 'раз', 'тоже', 'себе', 'под', 'будет', 'ж', 'тогда', 'кто', 'этот', 'того', 'потому', 'этого', 'какой', 'совсем', 'ним', 'здесь', 'этом', 'один', 'почти', 'мой', 'тем', 'чтобы', 'нее', 'сейчас', 'были', 'куда', 'зачем', 'всех', 'никогда', 'можно', 'при', 'наконец', 'два', 'об', 'другой', 'хоть', 'после', 'над', 'больше', 'тот', 'через', 'эти', 'нас', 'про', 'всего', 'них', 'какая', 'много', 'разве', 'три', 'эту', 'моя', 'впрочем', 'хорошо', 'свою', 'этой', 'перед', 'иногда', 'лучше', 'чуть', 'том', 'нельзя', 'такой', 'им', 'более', 'всегда', 'конечно', 'всю', 'между', 'это', 'ничто', 'свой', 'цинь', 'дэ-говать', 'юань', 'тина-фа', 'юй-фэнь', 'чжан', 'фу-цюань', 'хэ', 'цзы-сюй', 'чжоу', 'лян', 'цзин-чунь', 'дин', 'чунь-сю', 'чэнь', 'итая', 'госпожа', 'шэнь', 'ван', 'чжан', 'чжао', 'ли-мина', 'чжоу', 'бо-тао', 'чжан', 'би-сю', 'ду', 'дасинь', 'чэнь', 'чжэнь', 'чжан', 'хой-ж', 'сяо', 'шаня', 'чэн', 'цзянь-бин', 'хуан', 'цунуть-жэнить', 'ду', 'дасинить', 'лао', 'шэ', 'чэнь', 'чжэнить', 'лян', 'цзин-чуня', 'чжан', 'вэйцюня', 'цинь', 'дэ-гий', 'мэн', 'сю-ди', 'гао']\n"
     ]
    }
   ],
   "source": [
    "stops = stopwords.words('russian')\n",
    "l = ['это','ничто','свой','цинь', 'дэ-говать', 'юань', 'тина-фа', 'юй-фэнь', 'чжан', 'фу-цюань', 'хэ', 'цзы-сюй', 'чжоу', 'лян', 'цзин-чунь', 'дин', 'чунь-сю', 'чэнь', 'итая', 'госпожа', 'шэнь', 'ван', 'чжан', 'чжао', 'ли-мина', 'чжоу', 'бо-тао', 'чжан', 'би-сю', 'ду', 'дасинь', 'чэнь', 'чжэнь', 'чжан', 'хой-ж', 'сяо', 'шаня', 'чэн', 'цзянь-бин', 'хуан', 'цунуть-жэнить', 'ду', 'дасинить', 'лао', 'шэ', 'чэнь', 'чжэнить', 'лян', 'цзин-чуня', 'чжан', 'вэйцюня', 'цинь', 'дэ-гий', 'мэн', 'сю-ди', 'гао']\n",
    "stops.extend(l)\n",
    "print(stops)"
   ]
  },
  {
   "cell_type": "code",
   "execution_count": 14,
   "metadata": {},
   "outputs": [],
   "source": [
    "def normalize(text):\n",
    "    punct = punctuation +\"«»-_—–\"\n",
    "    normalized_text = [morph.parse(word.strip(punct))[0].normal_form for word \\\n",
    "                                                            in text.lower().split()]\n",
    "    normalized_text = [word for word in normalized_text if word and word not in stops]\n",
    "    return normalized_text"
   ]
  },
  {
   "cell_type": "code",
   "execution_count": 15,
   "metadata": {},
   "outputs": [],
   "source": [
    "def ngrammer(tokens, n=10):\n",
    "    ngrams = []\n",
    "    for i in range(0,len(tokens)-n+1):\n",
    "        ngrams.append(' '.join(tokens[i:i+n]))\n",
    "    return ngrams"
   ]
  },
  {
   "cell_type": "code",
   "execution_count": 16,
   "metadata": {},
   "outputs": [
    {
     "name": "stdout",
     "output_type": "stream",
     "text": [
      "['ба', 'цзинь', 'осень', '1', 'последний', 'время', 'просто', 'измучиться', 'обрушиваться', 'неприятность', 'тётя', 'крайне', 'недовольный', 'дядя', 'кэ-дин', 'период', 'траур', 'взять', 'дом', 'си-эр']\n"
     ]
    }
   ],
   "source": [
    "lemm_texts = normalize(all_texts)\n",
    "print(lemm_texts[:20])"
   ]
  },
  {
   "cell_type": "code",
   "execution_count": 17,
   "metadata": {},
   "outputs": [
    {
     "data": {
      "text/plain": [
       "666619"
      ]
     },
     "execution_count": 17,
     "metadata": {},
     "output_type": "execute_result"
    }
   ],
   "source": [
    "words_analized = [morph.parse(token) for token in word_tokenize(all_texts)]\n",
    "len(words_analized)"
   ]
  },
  {
   "cell_type": "code",
   "execution_count": 20,
   "metadata": {},
   "outputs": [],
   "source": [
    "kitaycy_POS = []\n",
    "for x in words_analized:\n",
    "    kitaycy_POS.append(x[0].tag.POS)"
   ]
  },
  {
   "cell_type": "code",
   "execution_count": 21,
   "metadata": {},
   "outputs": [
    {
     "name": "stdout",
     "output_type": "stream",
     "text": [
      "[None, 'NOUN', 'VERB', 'NPRO', 'CONJ', 'PREP', 'ADJF', 'ADVB']\n"
     ]
    }
   ],
   "source": [
    "from collections import Counter\n",
    "\n",
    "most_common_POS = []\n",
    "for word, word_count in Counter(kitaycy_POS).most_common(8):\n",
    "    most_common_POS.append(word)\n",
    "\n",
    "print (most_common_POS)"
   ]
  },
  {
   "cell_type": "code",
   "execution_count": 23,
   "metadata": {},
   "outputs": [
    {
     "data": {
      "text/plain": [
       "[('весь ещё', 184),\n",
       " ('весь время', 176),\n",
       " ('друг друг', 162),\n",
       " ('весь равно', 154),\n",
       " ('опустить голова', 139),\n",
       " ('покачать голова', 139),\n",
       " ('поднять голова', 136),\n",
       " ('старший брат', 122),\n",
       " ('секретарь партком', 120),\n",
       " ('ещё большой', 109),\n",
       " ('несколько день', 91),\n",
       " ('человек который', 86),\n",
       " ('весь сила', 85),\n",
       " ('последний время', 84),\n",
       " ('некоторый время', 81),\n",
       " ('самый дело', 81),\n",
       " ('весь жизнь', 81),\n",
       " ('обращать внимание', 77),\n",
       " ('скоростной плавка', 75),\n",
       " ('конец конец', 71),\n",
       " ('вернуться домой', 71),\n",
       " ('молодая человек', 71),\n",
       " ('каждый день', 68),\n",
       " ('сей пора', 67),\n",
       " ('никак мочь', 66),\n",
       " ('письменный стол', 64),\n",
       " ('хотеть сказать', 62),\n",
       " ('весь порядок', 58),\n",
       " ('выражение лицо', 56),\n",
       " ('год назад', 56),\n",
       " ('девять мартен', 54),\n",
       " ('сказать цзюе-минь', 53),\n",
       " ('обратить внимание', 53),\n",
       " ('несколько год', 53),\n",
       " ('целое днями', 50),\n",
       " ('младший брат', 48),\n",
       " ('ещё несколько', 48),\n",
       " ('закрыть глаз', 48),\n",
       " ('выйти комната', 47),\n",
       " ('что-то сказать', 45),\n",
       " ('молодая барин', 45),\n",
       " ('мочь большой', 45),\n",
       " ('взять рука', 44),\n",
       " ('мочь сказать', 44),\n",
       " ('ещё немного', 43),\n",
       " ('говорить весь', 43),\n",
       " ('весь остальной', 43),\n",
       " ('сказать цзюе-синь', 42),\n",
       " ('мочь понять', 42),\n",
       " ('стать ещё', 42)]"
      ]
     },
     "execution_count": 23,
     "metadata": {},
     "output_type": "execute_result"
    }
   ],
   "source": [
    "word_counter = Counter()\n",
    "\n",
    "#for text in lemm_texts:\n",
    "word_counter.update(ngrammer(lemm_texts, n=2))\n",
    "\n",
    "word_counter.most_common(50)"
   ]
  },
  {
   "cell_type": "code",
   "execution_count": 24,
   "metadata": {},
   "outputs": [],
   "source": [
    "from nltk.collocations import *"
   ]
  },
  {
   "cell_type": "code",
   "execution_count": 25,
   "metadata": {},
   "outputs": [],
   "source": [
    "bigram_measures = nltk.collocations.BigramAssocMeasures()\n",
    "trigram_measures = nltk.collocations.TrigramAssocMeasures()"
   ]
  },
  {
   "cell_type": "code",
   "execution_count": 26,
   "metadata": {},
   "outputs": [
    {
     "data": {
      "text/plain": [
       "[('секретарь', 'партком'),\n",
       " ('покачать', 'голова'),\n",
       " ('опустить', 'голова'),\n",
       " ('друг', 'друг'),\n",
       " ('поднять', 'голова'),\n",
       " ('весь', 'равно'),\n",
       " ('скоростной', 'плавка'),\n",
       " ('обращать', 'внимание'),\n",
       " ('старший', 'брат'),\n",
       " ('сей', 'пора'),\n",
       " ('целое', 'днями'),\n",
       " ('письменный', 'стол'),\n",
       " ('обратить', 'внимание'),\n",
       " ('девять', 'мартен'),\n",
       " ('вернуться', 'домой'),\n",
       " ('конец', 'конец'),\n",
       " ('некоторый', 'время'),\n",
       " ('нахмурить', 'бровь'),\n",
       " ('выпускной', 'отверстие'),\n",
       " ('последний', 'время'),\n",
       " ('крайний', 'мера'),\n",
       " ('несколько', 'день'),\n",
       " ('цю', 'би-юня'),\n",
       " ('весь', 'время'),\n",
       " ('пить', 'вино'),\n",
       " ('никак', 'мочь'),\n",
       " ('фан', 'цзи-шунь'),\n",
       " ('год', 'назад'),\n",
       " ('самый', 'дело'),\n",
       " ('культурный', 'революция'),\n",
       " ('секретарить', 'партком'),\n",
       " ('чжуан', 'гуй-лань'),\n",
       " ('младший', 'брат'),\n",
       " ('молодая', 'барин'),\n",
       " ('искусственный', 'горка'),\n",
       " ('выражение', 'лицо'),\n",
       " ('ещё', 'большой'),\n",
       " ('цзюй', 'минь'),\n",
       " ('молодая', 'человек'),\n",
       " ('каждый', 'день'),\n",
       " ('закрыть', 'глаз'),\n",
       " ('мартеновский', 'цех'),\n",
       " ('зимний', 'слива'),\n",
       " ('весь', 'ещё'),\n",
       " ('двоюродный', 'сестра'),\n",
       " ('закусить', 'губа'),\n",
       " ('стиснуть', 'зуб'),\n",
       " ('товарищ', 'секретарь'),\n",
       " ('огненный', 'дракон'),\n",
       " ('керосиновый', 'лампа')]"
      ]
     },
     "execution_count": 26,
     "metadata": {},
     "output_type": "execute_result"
    }
   ],
   "source": [
    "#all_texts_lemm = []\n",
    "#for word in lemm_texts:\n",
    "    #all_texts_lemm.append(word)\n",
    "#all_texts_lemm\n",
    "#lemm_texts\n",
    "finder2 = BigramCollocationFinder.from_words(lemm_texts)\n",
    "finder2.nbest(bigram_measures.likelihood_ratio, 50)"
   ]
  },
  {
   "cell_type": "code",
   "execution_count": null,
   "metadata": {},
   "outputs": [],
   "source": []
  }
 ],
 "metadata": {
  "kernelspec": {
   "display_name": "Python 3",
   "language": "python",
   "name": "python3"
  },
  "language_info": {
   "codemirror_mode": {
    "name": "ipython",
    "version": 3
   },
   "file_extension": ".py",
   "mimetype": "text/x-python",
   "name": "python",
   "nbconvert_exporter": "python",
   "pygments_lexer": "ipython3",
   "version": "3.7.4"
  }
 },
 "nbformat": 4,
 "nbformat_minor": 2
}
